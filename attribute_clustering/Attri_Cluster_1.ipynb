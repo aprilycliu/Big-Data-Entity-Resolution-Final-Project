{
 "cells": [
  {
   "cell_type": "code",
   "execution_count": 84,
   "metadata": {},
   "outputs": [],
   "source": [
    "import pandas as pd\n",
    "import re"
   ]
  },
  {
   "cell_type": "code",
   "execution_count": 85,
   "metadata": {},
   "outputs": [],
   "source": [
    "first = pd.read_csv(\"first.csv\",delimiter=\";\")\n",
    "second = pd.read_csv(\"second.csv\",delimiter=\";\") "
   ]
  },
  {
   "cell_type": "code",
   "execution_count": 100,
   "metadata": {},
   "outputs": [],
   "source": [
    "stop_words = r'the|and|:|,|&|\\?|!|NONE'"
   ]
  },
  {
   "cell_type": "code",
   "execution_count": 101,
   "metadata": {},
   "outputs": [],
   "source": [
    "def colSimCmp(col1,col2,threshold):\n",
    "    def getTokens(colX):\n",
    "        return [i for z in [re.sub(stop_words,\" \",x).split() for x in [i.lower() for i in colX.values]] for i in z]\n",
    "    def jaccard(x,y):\n",
    "        return len(set(x).intersection(set(y))) / len(set(x+y))\n",
    "    return True if jaccard(getTokens(col1),getTokens(col2))>=threshold else False"
   ]
  },
  {
   "cell_type": "code",
   "execution_count": 105,
   "metadata": {},
   "outputs": [
    {
     "name": "stdout",
     "output_type": "stream",
     "text": [
      "title movie_name\n",
      "original_language language\n",
      "popularity box_office\n",
      "release_year year\n",
      "production_companies companies\n",
      "production_countries countries\n",
      "director director\n"
     ]
    }
   ],
   "source": [
    "for i in range(1,8):\n",
    "    for k in range(1,8):\n",
    "        if True == colSimCmp(first.iloc[:,i],second.iloc[:,k],0.3):\n",
    "            print(first.columns[i],second.columns[k])"
   ]
  }
 ],
 "metadata": {
  "kernelspec": {
   "display_name": "Python 3",
   "language": "python",
   "name": "python3"
  },
  "language_info": {
   "codemirror_mode": {
    "name": "ipython",
    "version": 3
   },
   "file_extension": ".py",
   "mimetype": "text/x-python",
   "name": "python",
   "nbconvert_exporter": "python",
   "pygments_lexer": "ipython3",
   "version": "3.7.0"
  }
 },
 "nbformat": 4,
 "nbformat_minor": 2
}
