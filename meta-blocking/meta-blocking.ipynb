{
 "cells": [
  {
   "cell_type": "code",
   "execution_count": 509,
   "metadata": {},
   "outputs": [],
   "source": [
    "import json\n",
    "import pandas as pd"
   ]
  },
  {
   "cell_type": "code",
   "execution_count": 510,
   "metadata": {},
   "outputs": [],
   "source": [
    "with open(\"blocks(attri).json\") as infile:\n",
    "    data = json.load(infile)"
   ]
  },
  {
   "cell_type": "code",
   "execution_count": 511,
   "metadata": {},
   "outputs": [],
   "source": [
    "cbDict = {}\n",
    "blocks = {}\n",
    "jsDict = {}"
   ]
  },
  {
   "cell_type": "code",
   "execution_count": 512,
   "metadata": {},
   "outputs": [],
   "source": [
    "def addEdge(enTT_s1,enTT_s2):\n",
    "    for ei in enTT_s1:\n",
    "        blocks[\"s1:\"+str(ei)] = blocks[\"s1:\"+str(ei)] + 1 if \"s1:\"+str(ei) in blocks.keys() else 1  \n",
    "        for ej in enTT_s2:\n",
    "            blocks[\"s2:\"+str(ej)] = blocks[\"s2:\"+str(ej)] + 1 if \"s2:\"+str(ej) in blocks.keys() else 1  \n",
    "            cbDict[(\"s1:\"+str(ei),\"s2:\"+str(ej))] = cbDict[(\"s1:\"+str(ei),\"s2:\"+str(ej))] + 1 if (\"s1:\"+str(ei),\"s2:\"+str(ej)) in cbDict.keys() else 1"
   ]
  },
  {
   "cell_type": "code",
   "execution_count": 513,
   "metadata": {},
   "outputs": [],
   "source": [
    "# cbDict"
   ]
  },
  {
   "cell_type": "code",
   "execution_count": 514,
   "metadata": {},
   "outputs": [],
   "source": [
    "def js():\n",
    "    for k1,k2 in cbDict.keys():\n",
    "        jsDict[(k1,k2)] = cbDict[(k1,k2)] / (blocks[k1] + blocks[k2] - cbDict[(k1,k2)])"
   ]
  },
  {
   "cell_type": "code",
   "execution_count": 515,
   "metadata": {},
   "outputs": [],
   "source": [
    "for d in data:\n",
    "    enTT_s1 = list(d.values())[0][\"s1\"]\n",
    "    enTT_s2 = list(d.values())[0][\"s2\"]\n",
    "    addEdge(enTT_s1,enTT_s2)"
   ]
  },
  {
   "cell_type": "code",
   "execution_count": 516,
   "metadata": {},
   "outputs": [],
   "source": [
    "js()"
   ]
  },
  {
   "cell_type": "code",
   "execution_count": 517,
   "metadata": {},
   "outputs": [],
   "source": [
    "# jsDict"
   ]
  },
  {
   "cell_type": "code",
   "execution_count": 518,
   "metadata": {},
   "outputs": [],
   "source": [
    "def pruning(jsDict):\n",
    "    dic_len = len(jsDict.items())\n",
    "    threshold = sum(list(jsDict.values())) / dic_len\n",
    "    return [i[0] for i in sorted(jsDict.items(),key=lambda x : x[1],reverse=True) if i[1] > threshold]"
   ]
  },
  {
   "cell_type": "code",
   "execution_count": 519,
   "metadata": {},
   "outputs": [],
   "source": [
    "first = pd.read_csv(\"first.csv\",delimiter=\";\")\n",
    "second = pd.read_csv(\"second.csv\",delimiter=\";\")"
   ]
  },
  {
   "cell_type": "code",
   "execution_count": 520,
   "metadata": {},
   "outputs": [],
   "source": [
    "first.index = first.id\n",
    "first = first.drop(\"id\",1)"
   ]
  },
  {
   "cell_type": "code",
   "execution_count": 521,
   "metadata": {},
   "outputs": [],
   "source": [
    "second.index = second.id\n",
    "second = second.drop(\"id\",1)"
   ]
  },
  {
   "cell_type": "code",
   "execution_count": 522,
   "metadata": {},
   "outputs": [],
   "source": [
    "# len(pruning(jsDict))"
   ]
  },
  {
   "cell_type": "code",
   "execution_count": 523,
   "metadata": {},
   "outputs": [],
   "source": [
    "def match(descri1,descri2,threshold):\n",
    "    def getTokens(descriX):\n",
    "        return [x for p in [i.split() for i in descriX.values if i != \"NONE\"] for x in p]\n",
    "    def jaccard(x,y):\n",
    "        return len(set(x).intersection(set(y))) / len(set(x+y))\n",
    "    tokens1 = getTokens(descri1)\n",
    "    tokens2 = getTokens(descri2)\n",
    "    return True if jaccard(tokens1,tokens2) >= threshold else False"
   ]
  },
  {
   "cell_type": "code",
   "execution_count": 524,
   "metadata": {},
   "outputs": [],
   "source": [
    "tmp = pruning(jsDict)\n",
    "jSim = [jsDict[(i[0],i[1])] for i in tmp]\n",
    "jCol1 = [i[0][3:] for i in tmp]\n",
    "jCol2 = [i[1][3:] for i in tmp]\n",
    "header = [\"c\",\"entity_set_2\",\"JS(ei,ej)\",\"predMatch\",\"realMatch\"]\n",
    "jPredMatch = []\n",
    "jRealMatch = []"
   ]
  },
  {
   "cell_type": "code",
   "execution_count": 525,
   "metadata": {},
   "outputs": [],
   "source": [
    "show = pd.DataFrame(jCol1,jCol2)"
   ]
  },
  {
   "cell_type": "code",
   "execution_count": 526,
   "metadata": {},
   "outputs": [],
   "source": [
    "show[\"entity_set_2\"] = show.index\n",
    "show = show.rename(columns={0:\"entity_set_1\"})\n",
    "show.index = range(len(tmp))\n",
    "show[\"edge_JS(ei,ej)\"] = jSim\n",
    "show[\"predMatch\"] = 0\n",
    "show[\"realMatch\"] = 0"
   ]
  },
  {
   "cell_type": "code",
   "execution_count": 528,
   "metadata": {},
   "outputs": [],
   "source": [
    "def cmp(row):\n",
    "    index1,index2 = int(row[\"entity_set_1\"]),int(row[\"entity_set_2\"])\n",
    "    pred = match(first.loc[index1,:],second.loc[index2,:],0.3)\n",
    "    real = pred and index1 == index2\n",
    "    row[\"predMatch\"] = pred\n",
    "    row[\"realMatch\"] = real\n",
    "    return row"
   ]
  },
  {
   "cell_type": "code",
   "execution_count": 529,
   "metadata": {},
   "outputs": [],
   "source": [
    "show = show.apply(lambda x:cmp(x),axis=1)"
   ]
  },
  {
   "cell_type": "code",
   "execution_count": 530,
   "metadata": {},
   "outputs": [],
   "source": [
    "# show.head(15)"
   ]
  },
  {
   "cell_type": "code",
   "execution_count": 531,
   "metadata": {},
   "outputs": [
    {
     "name": "stdout",
     "output_type": "stream",
     "text": [
      "Pairs Quality(PQ):  0.018643395477984926\n"
     ]
    }
   ],
   "source": [
    "print(\"Pairs Quality(PQ): \",sum(show.predMatch)/len(tmp))"
   ]
  },
  {
   "cell_type": "code",
   "execution_count": 532,
   "metadata": {},
   "outputs": [
    {
     "name": "stdout",
     "output_type": "stream",
     "text": [
      "Pairs Completeness(PC):  0.8555555555555555\n"
     ]
    }
   ],
   "source": [
    "print(\"Pairs Completeness(PC): \",sum(show.realMatch)/90)"
   ]
  }
 ],
 "metadata": {
  "kernelspec": {
   "display_name": "Python 3",
   "language": "python",
   "name": "python3"
  },
  "language_info": {
   "codemirror_mode": {
    "name": "ipython",
    "version": 3
   },
   "file_extension": ".py",
   "mimetype": "text/x-python",
   "name": "python",
   "nbconvert_exporter": "python",
   "pygments_lexer": "ipython3",
   "version": "3.7.3"
  }
 },
 "nbformat": 4,
 "nbformat_minor": 2
}
