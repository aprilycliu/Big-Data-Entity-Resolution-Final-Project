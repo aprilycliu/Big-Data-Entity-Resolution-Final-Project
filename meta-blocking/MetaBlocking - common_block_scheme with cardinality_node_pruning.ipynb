{
 "cells": [
  {
   "cell_type": "code",
   "execution_count": 7,
   "metadata": {},
   "outputs": [],
   "source": [
    "import json\n",
    "import pandas as pd\n",
    "import itertools\n",
    "import numpy as np\n",
    "from collections import Counter\n",
    "import re\n",
    "import csv\n",
    "from nltk.corpus import stopwords"
   ]
  },
  {
   "cell_type": "code",
   "execution_count": 8,
   "metadata": {},
   "outputs": [],
   "source": [
    "def show_K_df(file):\n",
    "    with open(file) as json_file:\n",
    "        data = json.load(json_file)\n",
    "    s1 = []\n",
    "    for i in range(len(data)):\n",
    "        s1.append(list('s1_'+ str(i) for i in list(data[i].values())[0]['s1']))\n",
    "        s1_list = [item for sublist in s1 for item in sublist]\n",
    "    s2 = []\n",
    "    for i in range(len(data)):\n",
    "        s2.append(list('s2_'+ str(i) for i in list(data[i].values())[0]['s2']))\n",
    "        s2_list = [item for sublist in s2 for item in sublist]\n",
    "    k = sum(list(Counter(s1_list).values()))+ sum(list(Counter(s2_list).values())) / 300\n",
    "    k = int(k)-1\n",
    "    \n",
    "    df = pd.DataFrame([s1,s2]).T\n",
    "    \n",
    "    return df, k\n",
    "    "
   ]
  },
  {
   "cell_type": "code",
   "execution_count": 9,
   "metadata": {},
   "outputs": [],
   "source": [
    "df, k = show_K_df('blocks.json')"
   ]
  },
  {
   "cell_type": "code",
   "execution_count": 10,
   "metadata": {},
   "outputs": [],
   "source": [
    "def each_comparison(df):\n",
    "\n",
    "    comparison = []\n",
    "    for m in range(len(df)):\n",
    "        for i in df[0][m]:\n",
    "            for j in df[1][m]:\n",
    "                comparison.append(i + \" // \"+ j)\n",
    "    return comparison"
   ]
  },
  {
   "cell_type": "code",
   "execution_count": 11,
   "metadata": {},
   "outputs": [],
   "source": [
    "comparison = each_comparison(df)"
   ]
  },
  {
   "cell_type": "code",
   "execution_count": 12,
   "metadata": {},
   "outputs": [
    {
     "data": {
      "text/plain": [
       "21254"
      ]
     },
     "execution_count": 12,
     "metadata": {},
     "output_type": "execute_result"
    }
   ],
   "source": [
    "#Initicial Number of Comparsion\n",
    "len(comparison)"
   ]
  },
  {
   "cell_type": "code",
   "execution_count": 13,
   "metadata": {},
   "outputs": [],
   "source": [
    "#the number of blocks two entities have in common\n",
    "def common_block_scheme(comparison):\n",
    "    count = Counter(comparison)\n",
    "    return count"
   ]
  },
  {
   "cell_type": "code",
   "execution_count": 14,
   "metadata": {},
   "outputs": [],
   "source": [
    "count = common_block_scheme(comparison)"
   ]
  },
  {
   "cell_type": "code",
   "execution_count": 15,
   "metadata": {},
   "outputs": [],
   "source": [
    "#Before Pruning\n",
    "#count"
   ]
  },
  {
   "cell_type": "code",
   "execution_count": 16,
   "metadata": {},
   "outputs": [],
   "source": [
    "def cardinality_node_pruning(count,k):\n",
    "    \n",
    "    countdf = pd.DataFrame.from_dict(count, orient='index').reset_index()\n",
    "    countdf = countdf.sort_values(by=[0], ascending=False)\n",
    "    arr = np.array(countdf[0])\n",
    "    length = len(arr[arr.cumsum() <= k])\n",
    "    output  = countdf[:length]\n",
    "    #output = output.rename({'index':0, 0:1})\n",
    "    pairs = output['index'].str.split('//', expand = True)\n",
    "    pairs['count'] = output[0]\n",
    "    \n",
    "    return pairs    "
   ]
  },
  {
   "cell_type": "code",
   "execution_count": 17,
   "metadata": {},
   "outputs": [
    {
     "data": {
      "text/plain": [
       "172"
      ]
     },
     "execution_count": 17,
     "metadata": {},
     "output_type": "execute_result"
    }
   ],
   "source": [
    "after_pruning = cardinality_node_pruning(count,k)\n",
    "#After Pruning\n",
    "len(after_pruning)"
   ]
  },
  {
   "cell_type": "markdown",
   "metadata": {},
   "source": [
    "# Evaluation "
   ]
  },
  {
   "cell_type": "code",
   "execution_count": 18,
   "metadata": {},
   "outputs": [],
   "source": [
    "def extracted_collections(file1, file2, after_pruning):\n",
    "    first= pd.read_csv(file1, delimiter=';')\n",
    "    second= pd.read_csv(file2, delimiter=';')\n",
    "    \n",
    "    first_id = after_pruning[0].str.replace(\"s1_\",\"\").astype(int)\n",
    "    second_id = after_pruning[1].str.replace(\"s2_\",\"\").astype(int)\n",
    "    \n",
    "    first_extracted = first[first['id'].isin(first_id)]\n",
    "    second_extracted = second[second['id'].isin(second_id)]\n",
    "    \n",
    "    ids = pd.DataFrame([list(first_id),list(second_id)]).T\n",
    "    return ids, first_extracted, second_extracted"
   ]
  },
  {
   "cell_type": "code",
   "execution_count": 19,
   "metadata": {},
   "outputs": [],
   "source": [
    "ids, first_extracted, second_extracted = extracted_collections('first.csv', 'second.csv', after_pruning)"
   ]
  },
  {
   "cell_type": "code",
   "execution_count": 20,
   "metadata": {},
   "outputs": [],
   "source": [
    "def token_description(df,index,group):\n",
    "    \n",
    "    row = df[df['id'] == int(ids.iloc[index][group])].values.tolist()\n",
    "    row = row.pop(0)\n",
    "    row.pop(0)\n",
    "    \n",
    "    res = [sub.split() for sub in row]\n",
    "    res = [item for sublist in res for item in sublist]\n",
    "    res = [w for w in res if w !='NONE']\n",
    "    filtered_word_list = res[:]\n",
    "    for word in res: \n",
    "        if word in stopwords.words('english'): \n",
    "            filtered_word_list.remove(word)\n",
    "    return filtered_word_list\n",
    "    "
   ]
  },
  {
   "cell_type": "code",
   "execution_count": 21,
   "metadata": {},
   "outputs": [],
   "source": [
    "def jaccard_similarity(list1, list2):\n",
    "    intersection = len(list(set(list1).intersection(list2)))\n",
    "    union = (len(list1) + len(list2)) - intersection\n",
    "    return float(intersection) / union"
   ]
  },
  {
   "cell_type": "code",
   "execution_count": 28,
   "metadata": {},
   "outputs": [],
   "source": [
    "def scroing(ids, first_extracted, second_extracted):\n",
    "    score =[]\n",
    "    for i in range(len(ids)):\n",
    "        list1= token_description(first_extracted,i,0)\n",
    "        list2= token_description(second_extracted,i,1)\n",
    "        score.append(jaccard_similarity(list1, list2))\n",
    "        \n",
    "    ids['score'] = score\n",
    "    pred = []\n",
    "    for i in range(len(ids)):\n",
    "        if ids['score'][i]>=0.3:\n",
    "            pred.append(1)\n",
    "        else:  pred.append(0)\n",
    "    real=[]\n",
    "    for i in range(len(ids)):\n",
    "        if ids[0][i]==ids[1][i]:\n",
    "            real.append(1)\n",
    "        else: real.append(0)\n",
    "    ids['predict'] = pred\n",
    "    ids['real'] = real\n",
    "   \n",
    "    return ids       "
   ]
  },
  {
   "cell_type": "code",
   "execution_count": 29,
   "metadata": {},
   "outputs": [],
   "source": [
    "result = scroing(ids, first_extracted, second_extracted)"
   ]
  },
  {
   "cell_type": "code",
   "execution_count": 30,
   "metadata": {},
   "outputs": [
    {
     "data": {
      "text/html": [
       "<div>\n",
       "<style scoped>\n",
       "    .dataframe tbody tr th:only-of-type {\n",
       "        vertical-align: middle;\n",
       "    }\n",
       "\n",
       "    .dataframe tbody tr th {\n",
       "        vertical-align: top;\n",
       "    }\n",
       "\n",
       "    .dataframe thead th {\n",
       "        text-align: right;\n",
       "    }\n",
       "</style>\n",
       "<table border=\"1\" class=\"dataframe\">\n",
       "  <thead>\n",
       "    <tr style=\"text-align: right;\">\n",
       "      <th></th>\n",
       "      <th>0</th>\n",
       "      <th>1</th>\n",
       "      <th>score</th>\n",
       "      <th>predict</th>\n",
       "      <th>real</th>\n",
       "    </tr>\n",
       "  </thead>\n",
       "  <tbody>\n",
       "    <tr>\n",
       "      <th>0</th>\n",
       "      <td>2948</td>\n",
       "      <td>2948</td>\n",
       "      <td>0.658537</td>\n",
       "      <td>1</td>\n",
       "      <td>1</td>\n",
       "    </tr>\n",
       "    <tr>\n",
       "      <th>1</th>\n",
       "      <td>888</td>\n",
       "      <td>888</td>\n",
       "      <td>0.923077</td>\n",
       "      <td>1</td>\n",
       "      <td>1</td>\n",
       "    </tr>\n",
       "    <tr>\n",
       "      <th>2</th>\n",
       "      <td>1108</td>\n",
       "      <td>1108</td>\n",
       "      <td>0.758621</td>\n",
       "      <td>1</td>\n",
       "      <td>1</td>\n",
       "    </tr>\n",
       "    <tr>\n",
       "      <th>3</th>\n",
       "      <td>863</td>\n",
       "      <td>863</td>\n",
       "      <td>0.894737</td>\n",
       "      <td>1</td>\n",
       "      <td>1</td>\n",
       "    </tr>\n",
       "    <tr>\n",
       "      <th>4</th>\n",
       "      <td>827</td>\n",
       "      <td>827</td>\n",
       "      <td>0.772727</td>\n",
       "      <td>1</td>\n",
       "      <td>1</td>\n",
       "    </tr>\n",
       "  </tbody>\n",
       "</table>\n",
       "</div>"
      ],
      "text/plain": [
       "      0     1     score  predict  real\n",
       "0  2948  2948  0.658537        1     1\n",
       "1   888   888  0.923077        1     1\n",
       "2  1108  1108  0.758621        1     1\n",
       "3   863   863  0.894737        1     1\n",
       "4   827   827  0.772727        1     1"
      ]
     },
     "execution_count": 30,
     "metadata": {},
     "output_type": "execute_result"
    }
   ],
   "source": [
    "result.head(5)"
   ]
  },
  {
   "cell_type": "code",
   "execution_count": 31,
   "metadata": {},
   "outputs": [
    {
     "name": "stdout",
     "output_type": "stream",
     "text": [
      "Pairs Quality(PQ):  0.46511627906976744\n"
     ]
    }
   ],
   "source": [
    "print(\"Pairs Quality(PQ): \",sum(result.predict)/len(after_pruning))"
   ]
  },
  {
   "cell_type": "code",
   "execution_count": 32,
   "metadata": {},
   "outputs": [
    {
     "name": "stdout",
     "output_type": "stream",
     "text": [
      "Pairs Completeness(PC):  0.8222222222222222\n"
     ]
    }
   ],
   "source": [
    "print(\"Pairs Completeness(PC): \",sum(result.real)/90)"
   ]
  },
  {
   "cell_type": "code",
   "execution_count": null,
   "metadata": {},
   "outputs": [],
   "source": []
  }
 ],
 "metadata": {
  "kernelspec": {
   "display_name": "Python 3",
   "language": "python",
   "name": "python3"
  },
  "language_info": {
   "codemirror_mode": {
    "name": "ipython",
    "version": 3
   },
   "file_extension": ".py",
   "mimetype": "text/x-python",
   "name": "python",
   "nbconvert_exporter": "python",
   "pygments_lexer": "ipython3",
   "version": "3.7.3"
  }
 },
 "nbformat": 4,
 "nbformat_minor": 2
}
