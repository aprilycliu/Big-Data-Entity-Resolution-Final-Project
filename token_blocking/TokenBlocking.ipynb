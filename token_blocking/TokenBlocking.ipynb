{
 "cells": [
  {
   "cell_type": "code",
   "execution_count": 92,
   "metadata": {},
   "outputs": [
    {
     "name": "stdout",
     "output_type": "stream",
     "text": [
      "Overwriting tokenBlocking.py\n"
     ]
    }
   ],
   "source": [
    "%%writefile tokenBlocking.py\n",
    "\n",
    "from mrjob.job import MRJob\n",
    "from mrjob.step import MRStep\n",
    "from mrjob.protocol import JSONValueProtocol\n",
    "from io import StringIO\n",
    "import csv\n",
    "import re\n",
    "\n",
    "class TokenBlocking(MRJob):\n",
    "    OUTPUT_PROTOCOL = JSONValueProtocol\n",
    "    def steps(self):\n",
    "        return [\n",
    "            MRStep(mapper=self.mapper,\n",
    "                   reducer=self.reducer),\n",
    "            MRStep(reducer=self.reducer_final)\n",
    "        ]\n",
    "\n",
    "    def mapper(self, _, line):\n",
    "        import os\n",
    "        rd = csv.reader(StringIO(line),delimiter=\";\")\n",
    "        row = next(rd)\n",
    "        eid = row.pop(0)\n",
    "        stop_words = r'the|and|:|,|&|\\?|!'\n",
    "        if eid != \"id\":\n",
    "            for r in row:\n",
    "                words = re.sub(stop_words,\" \",r.lower())\n",
    "                for word in words.split():\n",
    "                    file_name = os.getenv('mapreduce_map_input_file')\n",
    "                    if(\"first\" in file_name):\n",
    "                        if(word != \"none\"):\n",
    "                            yield (word,(\"s1\",int(eid)))\n",
    "                    else:\n",
    "                        if(word != \"none\"):\n",
    "                            yield (word,(\"s2\",int(eid)))\n",
    "    \n",
    "    def reducer(self, token, eids):\n",
    "        es1 = []\n",
    "        es2 = []\n",
    "        for var in eids:\n",
    "            if(var[0] == \"s1\"):\n",
    "                es1.append(var[1])\n",
    "            else:\n",
    "                es2.append(var[1])\n",
    "        if (len(es1) > 0) & (len(es2) > 0):\n",
    "            yield (None,{token:{\"s1\":sorted(list(set(es1))),\"s2\":sorted(list(set(es2)))}})\n",
    "    \n",
    "    def reducer_final(self,key,value):\n",
    "        yield None,list(value)\n",
    "\n",
    "if __name__ == '__main__':\n",
    "    TokenBlocking.run()"
   ]
  },
  {
   "cell_type": "code",
   "execution_count": 93,
   "metadata": {},
   "outputs": [],
   "source": [
    "# program can be run under command line mode \n",
    "# type in python tokenBlocking.py *csv > blocks(token).json"
   ]
  }
 ],
 "metadata": {
  "kernelspec": {
   "display_name": "Python 3",
   "language": "python",
   "name": "python3"
  },
  "language_info": {
   "codemirror_mode": {
    "name": "ipython",
    "version": 3
   },
   "file_extension": ".py",
   "mimetype": "text/x-python",
   "name": "python",
   "nbconvert_exporter": "python",
   "pygments_lexer": "ipython3",
   "version": "3.7.0"
  }
 },
 "nbformat": 4,
 "nbformat_minor": 2
}
