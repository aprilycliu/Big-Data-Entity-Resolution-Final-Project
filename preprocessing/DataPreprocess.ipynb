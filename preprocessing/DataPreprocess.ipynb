{
 "cells": [
  {
   "cell_type": "code",
   "execution_count": 218,
   "metadata": {},
   "outputs": [],
   "source": [
    "import pandas as pd\n",
    "import numpy as np\n",
    "import re\n",
    "import ast\n",
    "import random"
   ]
  },
  {
   "cell_type": "code",
   "execution_count": 219,
   "metadata": {
    "scrolled": true
   },
   "outputs": [],
   "source": [
    "df = pd.read_csv(\"train.csv\")\n",
    "df =df[[\"title\",\"original_language\",\"popularity\",\"release_date\",\"production_companies\",'production_countries','crew']]\n",
    "df = df.dropna()"
   ]
  },
  {
   "cell_type": "code",
   "execution_count": 220,
   "metadata": {},
   "outputs": [],
   "source": [
    "df.loc[:,[\"production_companies\"]] = (df.loc[:,[\"production_companies\"]]).applymap(lambda x: ast.literal_eval(x))\n",
    "df.loc[:,[\"production_companies\"]] = (df.loc[:,[\"production_companies\"]]).applymap(lambda x: \" and \".join([i[\"name\"] for i in [j for j in x]]))"
   ]
  },
  {
   "cell_type": "code",
   "execution_count": 221,
   "metadata": {},
   "outputs": [],
   "source": [
    "df.loc[:,[\"production_countries\"]] = (df.loc[:,[\"production_countries\"]]).applymap(lambda x: ast.literal_eval(x))\n",
    "df.loc[:,[\"production_countries\"]] = (df.loc[:,[\"production_countries\"]]).applymap(lambda x: \" and \".join([i[\"iso_3166_1\"] for i in [j for j in x]]))"
   ]
  },
  {
   "cell_type": "code",
   "execution_count": 222,
   "metadata": {},
   "outputs": [],
   "source": [
    "df.loc[:,[\"crew\"]] = (df.loc[:,[\"crew\"]]).applymap(lambda x: ast.literal_eval(x))\n",
    "df.loc[:,[\"crew\"]] = (df.loc[:,[\"crew\"]]).applymap(lambda x: \" and \".join([i[\"name\"] for i in [j for j in x] if i[\"job\"] == \"Director\"]))"
   ]
  },
  {
   "cell_type": "code",
   "execution_count": 223,
   "metadata": {},
   "outputs": [],
   "source": [
    "df = df.rename(columns = {\"crew\":\"director\"})"
   ]
  },
  {
   "cell_type": "code",
   "execution_count": 224,
   "metadata": {},
   "outputs": [],
   "source": [
    "patt = r'\\d+/\\d+/(\\d+)'\n",
    "df.loc[:,[\"release_date\"]] = df.loc[:,[\"release_date\"]].applymap(lambda x:\"20\"+re.match(patt,x).group(1) if int(re.match(patt,x).group(1)) <= 19 else \"19\"+re.match(patt,x).group(1))"
   ]
  },
  {
   "cell_type": "code",
   "execution_count": 225,
   "metadata": {},
   "outputs": [],
   "source": [
    "df = df.rename(columns={\"release_date\":\"release_year\"})"
   ]
  },
  {
   "cell_type": "code",
   "execution_count": 226,
   "metadata": {},
   "outputs": [],
   "source": [
    "df.loc[:,[\"popularity\"]] = df.loc[:,[\"popularity\"]].applymap(lambda x:\"{:.3f}\".format(float(x))) "
   ]
  },
  {
   "cell_type": "code",
   "execution_count": 227,
   "metadata": {},
   "outputs": [],
   "source": [
    "df = df.sample(210, random_state = 42)"
   ]
  },
  {
   "cell_type": "code",
   "execution_count": 228,
   "metadata": {},
   "outputs": [],
   "source": [
    "def resetEnTT(row):\n",
    "    inds = list(row.index)\n",
    "    attri_num = random.randint(1,3)\n",
    "    left = list(set(inds) - set([\"title\"]))\n",
    "    attri_thrown = random.sample(left,k=attri_num)\n",
    "    for i in range(len(inds)):\n",
    "        if inds[i] in attri_thrown:\n",
    "            row.loc[inds[i]] = None\n",
    "    return row"
   ]
  },
  {
   "cell_type": "code",
   "execution_count": 229,
   "metadata": {},
   "outputs": [],
   "source": [
    "first = df[:150]"
   ]
  },
  {
   "cell_type": "code",
   "execution_count": 230,
   "metadata": {},
   "outputs": [],
   "source": [
    "same = first.sample(n=90,random_state = 42)"
   ]
  },
  {
   "cell_type": "code",
   "execution_count": 231,
   "metadata": {},
   "outputs": [],
   "source": [
    "second = df[150:]"
   ]
  },
  {
   "cell_type": "code",
   "execution_count": 232,
   "metadata": {},
   "outputs": [],
   "source": [
    "second = pd.concat([second,same])"
   ]
  },
  {
   "cell_type": "code",
   "execution_count": 233,
   "metadata": {},
   "outputs": [],
   "source": [
    "first = first.apply(lambda x: resetEnTT(x),axis=1)\n",
    "second = second.apply(lambda x: resetEnTT(x),axis=1)"
   ]
  },
  {
   "cell_type": "code",
   "execution_count": 234,
   "metadata": {},
   "outputs": [],
   "source": [
    "second.columns = [\"movie_name\",\"language\",\"box_office\",\"year\",\"companies\",\"countries\",\"director\"]"
   ]
  },
  {
   "cell_type": "code",
   "execution_count": 235,
   "metadata": {},
   "outputs": [],
   "source": [
    "first.to_csv(\"first.csv\",sep=\";\",index_label=\"id\",na_rep=\"NONE\")"
   ]
  },
  {
   "cell_type": "code",
   "execution_count": 236,
   "metadata": {},
   "outputs": [],
   "source": [
    "second.to_csv(\"second.csv\",sep=\";\",index_label=\"id\",na_rep=\"NONE\")"
   ]
  },
  {
   "cell_type": "code",
   "execution_count": 237,
   "metadata": {},
   "outputs": [
    {
     "data": {
      "text/plain": [
       "title                   150\n",
       "original_language        88\n",
       "popularity              104\n",
       "release_year             98\n",
       "production_companies     94\n",
       "production_countries    115\n",
       "director                106\n",
       "dtype: int64"
      ]
     },
     "execution_count": 237,
     "metadata": {},
     "output_type": "execute_result"
    }
   ],
   "source": [
    "first.count()"
   ]
  },
  {
   "cell_type": "code",
   "execution_count": 238,
   "metadata": {},
   "outputs": [
    {
     "data": {
      "text/plain": [
       "movie_name    150\n",
       "language      100\n",
       "box_office     98\n",
       "year           98\n",
       "companies     101\n",
       "countries     106\n",
       "director       91\n",
       "dtype: int64"
      ]
     },
     "execution_count": 238,
     "metadata": {},
     "output_type": "execute_result"
    }
   ],
   "source": [
    "second.count()"
   ]
  }
 ],
 "metadata": {
  "kernelspec": {
   "display_name": "Python 3",
   "language": "python",
   "name": "python3"
  },
  "language_info": {
   "codemirror_mode": {
    "name": "ipython",
    "version": 3
   },
   "file_extension": ".py",
   "mimetype": "text/x-python",
   "name": "python",
   "nbconvert_exporter": "python",
   "pygments_lexer": "ipython3",
   "version": "3.7.3"
  }
 },
 "nbformat": 4,
 "nbformat_minor": 2
}
